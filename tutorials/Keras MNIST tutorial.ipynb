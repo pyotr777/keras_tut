{
 "cells": [
  {
   "cell_type": "markdown",
   "metadata": {},
   "source": [
    "# Keras MNIST tutorial\n"
   ]
  },
  {
   "cell_type": "markdown",
   "metadata": {},
   "source": [
    "## Contents\n",
    "\n",
    "1. Load MNIST dataset\n",
    "2. Check dataset\n",
    "3. Convert to hot-one\n",
    "4. Define model architecture\n",
    "5. Fit model\n",
    "6. Evaluate model\n",
    "7. Visualise weights"
   ]
  },
  {
   "cell_type": "code",
   "execution_count": 1,
   "metadata": {},
   "outputs": [
    {
     "name": "stderr",
     "output_type": "stream",
     "text": [
      "WARNING (theano.sandbox.cuda): The cuda backend is deprecated and will be removed in the next release (v0.10).  Please switch to the gpuarray backend. You can get more information about how to switch at this URL:\n",
      " https://github.com/Theano/Theano/wiki/Converting-to-the-new-gpu-back-end%28gpuarray%29\n",
      "\n",
      "/usr/local/lib/python2.7/dist-packages/theano/sandbox/cuda/__init__.py:556: UserWarning: Theano flag device=gpu* (old gpu back-end) only support floatX=float32. You have floatX=float64. Use the new gpu back-end with device=cuda* for that value of floatX.\n",
      "  warnings.warn(msg)\n",
      "Using gpu device 0: GP10B (CNMeM is disabled, cuDNN 5110)\n"
     ]
    },
    {
     "name": "stdout",
     "output_type": "stream",
     "text": [
      "gpu0\n"
     ]
    },
    {
     "name": "stderr",
     "output_type": "stream",
     "text": [
      "Using Theano backend.\n"
     ]
    }
   ],
   "source": [
    "from matplotlib import pyplot as plt\n",
    "%matplotlib inline\n",
    "\n",
    "import os    \n",
    "os.environ['THEANO_FLAGS'] = \"device=gpu0\" \n",
    "import theano\n",
    "print(theano.config.device)\n",
    "\n",
    "from keras.models import Sequential\n",
    "from keras.layers import Dense, Dropout, Activation, Flatten\n",
    "from keras.layers.convolutional import Conv2D\n",
    "from keras.layers.pooling import MaxPooling2D\n",
    "from keras.utils import np_utils\n",
    "from keras.datasets import mnist\n",
    "from keras import optimizers\n",
    "from keras import callbacks\n",
    "from keras import backend as K\n",
    "from pylab import *\n",
    "import gzip\n",
    "import numpy as np\n",
    "np.random.seed(123)  # for reproducibility\n",
    "\n",
    "from __future__ import division"
   ]
  },
  {
   "cell_type": "code",
   "execution_count": 2,
   "metadata": {},
   "outputs": [
    {
     "name": "stdout",
     "output_type": "stream",
     "text": [
      "/home/nvidia/keras/tutorials\r\n"
     ]
    }
   ],
   "source": [
    "! pwd"
   ]
  },
  {
   "cell_type": "markdown",
   "metadata": {},
   "source": [
    "### Load MNIST dataset"
   ]
  },
  {
   "cell_type": "code",
   "execution_count": 3,
   "metadata": {
    "collapsed": true
   },
   "outputs": [],
   "source": [
    "from urllib import urlretrieve\n",
    "\n",
    "def download(filename, source='http://yann.lecun.com/exdb/mnist/'):\n",
    "    print(\"Downloading %s\" % filename)\n",
    "    urlretrieve(source + filename, filename)\n",
    "\n",
    "# We then define functions for loading MNIST images and labels.\n",
    "# For convenience, they also download the requested files if needed.\n",
    "\n",
    "def load_mnist_images(filename):\n",
    "    if not os.path.exists(filename):\n",
    "        download(filename)\n",
    "    # Read the inputs in Yann LeCun's binary format.\n",
    "    with gzip.open(filename, 'rb') as f:\n",
    "        data = np.frombuffer(f.read(), np.uint8, offset=16)\n",
    "    # The inputs are vectors now, we reshape them to monochrome 2D images,\n",
    "    # following the shape convention: (examples, channels, rows, columns)\n",
    "    data = data.reshape(-1, 1, 28, 28)\n",
    "    # The inputs come as bytes, we convert them to float32 in range [0,1].\n",
    "    # (Actually to range [0, 255/256], for compatibility to the version\n",
    "    # provided at http://deeplearning.net/data/mnist/mnist.pkl.gz.)\n",
    "    return data / np.float32(256)\n",
    "\n",
    "def load_mnist_labels(filename):\n",
    "    if not os.path.exists(filename):\n",
    "        download(filename)\n",
    "    # Read the labels in Yann LeCun's binary format.\n",
    "    with gzip.open(filename, 'rb') as f:\n",
    "        data = np.frombuffer(f.read(), np.uint8, offset=8)\n",
    "    # The labels are vectors of integers now, that's exactly what we want.\n",
    "    return data"
   ]
  },
  {
   "cell_type": "code",
   "execution_count": 4,
   "metadata": {
    "collapsed": true
   },
   "outputs": [],
   "source": [
    "X_train = load_mnist_images('train-images-idx3-ubyte.gz')\n",
    "y_train = load_mnist_labels('train-labels-idx1-ubyte.gz')\n",
    "X_test = load_mnist_images('t10k-images-idx3-ubyte.gz')\n",
    "y_test = load_mnist_labels('t10k-labels-idx1-ubyte.gz')"
   ]
  },
  {
   "cell_type": "markdown",
   "metadata": {},
   "source": [
    "### Check dataset"
   ]
  },
  {
   "cell_type": "code",
   "execution_count": 5,
   "metadata": {},
   "outputs": [
    {
     "name": "stdout",
     "output_type": "stream",
     "text": [
      "(60000, 1, 28, 28)\n",
      "(60000,)\n",
      "(10000, 1, 28, 28)\n",
      "(10000,)\n"
     ]
    }
   ],
   "source": [
    "print X_train.shape\n",
    "print y_train.shape\n",
    "print X_test.shape\n",
    "print y_test.shape"
   ]
  },
  {
   "cell_type": "code",
   "execution_count": 6,
   "metadata": {},
   "outputs": [
    {
     "name": "stdout",
     "output_type": "stream",
     "text": [
      "0.996094\n"
     ]
    },
    {
     "data": {
      "image/png": "[encoded data removed]",
      "text/plain": [
       "<matplotlib.figure.Figure at 0x7f884c5d90>"
      ]
     },
     "metadata": {},
     "output_type": "display_data"
    }
   ],
   "source": [
    "plt.imshow(X_train[2][0])\n",
    "print np.amax(X_train[2][0])"
   ]
  },
  {
   "cell_type": "code",
   "execution_count": 7,
   "metadata": {},
   "outputs": [
    {
     "name": "stdout",
     "output_type": "stream",
     "text": [
      "(60000, 1, 28, 28)\n",
      "(10000, 1, 28, 28)\n"
     ]
    }
   ],
   "source": [
    "print X_train.shape\n",
    "print X_test.shape"
   ]
  },
  {
   "cell_type": "code",
   "execution_count": 8,
   "metadata": {
    "collapsed": true
   },
   "outputs": [],
   "source": [
    "# Convert to float32 and normalise to range [0,1]\n",
    "X_train = X_train.astype('float32')\n",
    "X_test = X_test.astype('float32')\n",
    "#X_train /= 255\n",
    "#X_test /= 255"
   ]
  },
  {
   "cell_type": "markdown",
   "metadata": {},
   "source": [
    "## Convert labels to 10 distinct class labels (one-hot)"
   ]
  },
  {
   "cell_type": "code",
   "execution_count": 9,
   "metadata": {
    "collapsed": true
   },
   "outputs": [],
   "source": [
    "# Convert 1-dimensional class arrays to 10-dimensional class matrices\n",
    "Y_train = np_utils.to_categorical(y_train, 10)\n",
    "Y_test = np_utils.to_categorical(y_test, 10)"
   ]
  },
  {
   "cell_type": "code",
   "execution_count": 10,
   "metadata": {},
   "outputs": [
    {
     "name": "stdout",
     "output_type": "stream",
     "text": [
      "(60000, 10)\n",
      "[5 0]\n",
      "[[ 0.  0.  0.  0.  0.  1.  0.  0.  0.  0.]\n",
      " [ 1.  0.  0.  0.  0.  0.  0.  0.  0.  0.]]\n"
     ]
    }
   ],
   "source": [
    "print Y_train.shape\n",
    "print y_train[:2]\n",
    "print Y_train[:2]"
   ]
  },
  {
   "cell_type": "markdown",
   "metadata": {},
   "source": [
    "# 4. Define model architecture"
   ]
  },
  {
   "cell_type": "code",
   "execution_count": 160,
   "metadata": {},
   "outputs": [
    {
     "name": "stdout",
     "output_type": "stream",
     "text": [
      "_________________________________________________________________\n",
      "Layer (type)                 Output Shape              Param #   \n",
      "=================================================================\n",
      "Total params: 0\n",
      "Trainable params: 0\n",
      "Non-trainable params: 0\n",
      "_________________________________________________________________\n"
     ]
    }
   ],
   "source": [
    "model = Sequential()\n",
    "model.summary()"
   ]
  },
  {
   "cell_type": "code",
   "execution_count": 161,
   "metadata": {
    "collapsed": true
   },
   "outputs": [],
   "source": [
    "model.add(Conv2D(32, (3, 3), data_format=\"channels_first\",activation='tanh',input_shape=(1,28,28)))\n",
    "model.add(Conv2D(32, (3, 3)))\n",
    "layer_2 = Activation('relu')\n",
    "model.add(layer_2)\n",
    "model.add(MaxPooling2D(pool_size=(2,2)))\n",
    "model.add(Flatten())\n",
    "model.add(Dropout(0.25))\n",
    "model.add(Dense(10, activation='softmax'))"
   ]
  },
  {
   "cell_type": "code",
   "execution_count": 162,
   "metadata": {
    "scrolled": true
   },
   "outputs": [
    {
     "name": "stdout",
     "output_type": "stream",
     "text": [
      "_________________________________________________________________\n",
      "Layer (type)                 Output Shape              Param #   \n",
      "=================================================================\n",
      "conv2d_5 (Conv2D)            (None, 32, 26, 26)        320       \n",
      "_________________________________________________________________\n",
      "conv2d_6 (Conv2D)            (None, 30, 24, 32)        7520      \n",
      "_________________________________________________________________\n",
      "activation_3 (Activation)    (None, 30, 24, 32)        0         \n",
      "_________________________________________________________________\n",
      "max_pooling2d_3 (MaxPooling2 (None, 15, 12, 32)        0         \n",
      "_________________________________________________________________\n",
      "flatten_3 (Flatten)          (None, 5760)              0         \n",
      "_________________________________________________________________\n",
      "dropout_3 (Dropout)          (None, 5760)              0         \n",
      "_________________________________________________________________\n",
      "dense_3 (Dense)              (None, 10)                57610     \n",
      "=================================================================\n",
      "Total params: 65,450\n",
      "Trainable params: 65,450\n",
      "Non-trainable params: 0\n",
      "_________________________________________________________________\n"
     ]
    }
   ],
   "source": [
    "model.summary()"
   ]
  },
  {
   "cell_type": "code",
   "execution_count": 163,
   "metadata": {
    "collapsed": true
   },
   "outputs": [],
   "source": [
    "adm = optimizers.Adam(lr=0.01, decay=0.0005)\n",
    "sgd = optimizers.SGD(lr=0.01, momentum=0.09, decay=0.0005, nesterov=False)\n",
    "model.compile(loss='categorical_crossentropy',\n",
    "              optimizer=adm, metrics=['accuracy'])"
   ]
  },
  {
   "cell_type": "code",
   "execution_count": 168,
   "metadata": {},
   "outputs": [],
   "source": [
    "class NBatchLogger(callbacks.Callback):\n",
    "    def __init__(self,display=100):\n",
    "        '''\n",
    "        display: Number of batches to wait before outputting loss\n",
    "        '''\n",
    "        self.seen = 0\n",
    "        self.display = display\n",
    "        self.acc_train = []\n",
    "        self.loss_train = []\n",
    "        self.samples = []       # array to keep number of seen samples at log points \n",
    "        self.epoch_samples = [] # array to keep number of seen samples at epochs start (validation points)\n",
    "        self.log_points = 0\n",
    "        self.acc_accum = 0\n",
    "        self.loss_accum = 0\n",
    "        self.average_samples = 0  # Number of samples to use for avaraging acc and loss\n",
    "        self.batch = 0 # last logs['batch'] number. When it decreases means a new epoch started\n",
    "        self.epoch = 0 # epochs counter\n",
    "\n",
    "    def on_batch_end(self,batch,logs={}):\n",
    "        self.seen += logs.get('size', 0)\n",
    "        self.average_samples += 1\n",
    "        #print logs\n",
    "        #print self.params        \n",
    "        self.acc_accum += logs['acc']\n",
    "        self.loss_accum += logs['loss']\n",
    "        # Check new epoch start – it will be validation point\n",
    "        if self.batch > logs['batch']:\n",
    "            # New epoch start\n",
    "            self.epoch += 1\n",
    "            print \"Epoch\",self.epoch,\"samples\", self.params['samples'], \"acc:\",self.acc_accum/self.average_samples, \\\n",
    "                \"loss:\",self.loss_accum/self.average_samples\n",
    "            self.batch = 0\n",
    "            self.epoch_samples.append(self.seen - self.params['samples']/2) # \"minus\" to center epoch points on averaging area on x-axis\n",
    "        else:\n",
    "            self.batch = logs['batch']\n",
    "        if self.seen == self.params['samples']*self.params['epochs']:\n",
    "            # Last sample\n",
    "            print \"Last batch\"\n",
    "            self.epoch_samples.append(self.seen - self.params['samples']/2)            \n",
    "        #print \"batch:\",logs['batch'],logs['batch']%self.display,\" seen:\",self.seen\n",
    "        if logs['batch'] % self.display == 0:  \n",
    "            self.acc_train.append(self.acc_accum/self.average_samples)\n",
    "            self.loss_train.append(self.loss_accum/self.average_samples)\n",
    "            self.samples.append(self.seen)\n",
    "            self.average_samples = 0\n",
    "            self.log_points += 1\n",
    "            self.acc_accum = 0\n",
    "            self.loss_accum = 0\n",
    "            #print '{0}/{1} batch:{4} acc: {2} Loss: {3}'.format(self.seen,self.params['samples']*self.params['epochs'], logs['acc'],logs['loss'],logs['batch'])"
   ]
  },
  {
   "cell_type": "code",
   "execution_count": 169,
   "metadata": {
    "collapsed": true
   },
   "outputs": [],
   "source": [
    "class BatchHistory(callbacks.Callback):\n",
    "    def on_train_begin(self, logs={}):\n",
    "        self.losses = []\n",
    "        self.accurs = []\n",
    "\n",
    "    def on_batch_end(self, batch, logs={}):\n",
    "        self.losses.append(logs.get('loss'))\n",
    "        self.accurs.append(logs.get('acc'))"
   ]
  },
  {
   "cell_type": "markdown",
   "metadata": {},
   "source": [
    "# 5. Fit model on training data"
   ]
  },
  {
   "cell_type": "code",
   "execution_count": 170,
   "metadata": {},
   "outputs": [
    {
     "name": "stdout",
     "output_type": "stream",
     "text": [
      "using 60000 samples\n",
      "Epoch 1 samples 60000 acc: 0.95703125 loss: 0.141545285471\n",
      "Epoch 2 samples 60000 acc: 0.98046875 loss: 0.068906150409\n",
      "Epoch 3 samples 60000 acc: 0.98828125 loss: 0.0262740451726\n",
      "Epoch 4 samples 60000 acc: 0.982421875 loss: 0.0550393294543\n",
      "Epoch 5 samples 60000 acc: 0.994140625 loss: 0.00900373877084\n",
      "Epoch 6 samples 60000 acc: 0.984375 loss: 0.0562267337009\n",
      "Epoch 7 samples 60000 acc: 0.98828125 loss: 0.0511382246332\n",
      "Epoch 8 samples 60000 acc: 0.998046875 loss: 0.0101264744299\n",
      "Epoch 9 samples 60000 acc: 0.994140625 loss: 0.0148441136434\n",
      "Last batch\n"
     ]
    }
   ],
   "source": [
    "samples = 60000 # batches to see in one epoch\n",
    "batch_train_history = NBatchLogger(display=10)\n",
    "print \"using \"+str(samples)+\" samples\"\n",
    "history = model.fit(X_train[:samples], Y_train[:samples], validation_data=(X_test,Y_test), \\\n",
    "                      batch_size=64, epochs=10, verbose=0, callbacks=[batch_train_history])\n"
   ]
  },
  {
   "cell_type": "code",
   "execution_count": 175,
   "metadata": {
    "collapsed": true,
    "scrolled": true
   },
   "outputs": [],
   "source": [
    "def plot_loss_accuracy(train_loss, test_loss, train_acc, test_acc, test_points, validation_points) :    \n",
    "    fig = plt.figure(figsize=(15, 10))\n",
    "    ax1 = fig.add_subplot(111)\n",
    "    ax2 = ax1.twinx()\n",
    "    ax1.plot(test_points, train_loss, 'r-',label= \"loss_train\",alpha=0.3)\n",
    "    ax1.plot(validation_points, test_loss, 'r.-',label= \"loss_test\")\n",
    "    ax2.plot(test_points, train_acc, 'b-',label= \"acc_train\",alpha=0.7)\n",
    "    ax2.plot(validation_points, test_acc, 'b.-',label= \"acc_test\")\n",
    "    ax1.set_ylim([0,2.5])\n",
    "    ax1.set_xlabel('batch')\n",
    "    ax1.set_ylabel('loss')\n",
    "    ax2.set_ylabel('accuracy')\n",
    "\n",
    "    ax2.set_ylim([0,1])\n",
    "    ax1.legend(loc='center right')\n",
    "    ax2.legend(loc='best')\n",
    "    ax1.minorticks_on()\n",
    "    ax1.grid(which=\"both\")"
   ]
  },
  {
   "cell_type": "code",
   "execution_count": 176,
   "metadata": {},
   "outputs": [
    {
     "data": {
      "image/png": "[encoded data removed]",
      "text/plain": [
       "<matplotlib.figure.Figure at 0x7f511b4c10>"
      ]
     },
     "metadata": {},
     "output_type": "display_data"
    }
   ],
   "source": [
    "plot_loss_accuracy(batch_train_history.loss_train, history.history['val_loss'], \\\n",
    "                   batch_train_history.acc_train,  history.history['val_acc'], batch_train_history.samples, batch_train_history.epoch_samples )   "
   ]
  },
  {
   "cell_type": "code",
   "execution_count": 177,
   "metadata": {},
   "outputs": [
    {
     "data": {
      "image/png": "[encoded data removed]",
      "text/plain": [
       "<matplotlib.figure.Figure at 0x7f5c7152d0>"
      ]
     },
     "metadata": {},
     "output_type": "display_data"
    }
   ],
   "source": [
    "# summarize history for accuracy\n",
    "plt.plot(history.history['acc'])\n",
    "plt.plot(history.history['val_acc'],'b.-')\n",
    "plt.plot(history.history['loss'],'r')\n",
    "plt.plot(history.history['val_loss'],'r.-')\n",
    "axes = plt.gca()\n",
    "#axes.set_ylim([0,1.1])\n",
    "plt.title('model accuracy')\n",
    "plt.ylabel('accuracy')\n",
    "plt.xlabel('epoch')\n",
    "plt.legend(['acc','val_acc', 'loss','val_loss'], loc='center right')\n",
    "plt.grid()\n",
    "plt.show()"
   ]
  },
  {
   "cell_type": "markdown",
   "metadata": {},
   "source": [
    "# 6. Evaluate model on test data"
   ]
  },
  {
   "cell_type": "code",
   "execution_count": 178,
   "metadata": {},
   "outputs": [
    {
     "name": "stdout",
     "output_type": "stream",
     "text": [
      " 9984/10000 [============================>.] - ETA: 0s ETA: [0.047340124724474575, 0.98870000000000002]\n"
     ]
    }
   ],
   "source": [
    "score = model.evaluate(X_test, Y_test, verbose=1)\n",
    "print score"
   ]
  },
  {
   "cell_type": "markdown",
   "metadata": {},
   "source": [
    "### Performance:\n",
    "```\n",
    "SGD  64 x 10 : [0.12845374414473773, 0.96179999999999999]\n",
    "Adam 64 x 10 : [0.047340124724474575, 0.98870000000000002]\n",
    "```"
   ]
  },
  {
   "cell_type": "code",
   "execution_count": null,
   "metadata": {
    "collapsed": true
   },
   "outputs": [],
   "source": []
  },
  {
   "cell_type": "markdown",
   "metadata": {},
   "source": [
    "# 7. Visualise weights"
   ]
  },
  {
   "cell_type": "code",
   "execution_count": null,
   "metadata": {
    "collapsed": true
   },
   "outputs": [],
   "source": [
    "# utility functions\n",
    "from mpl_toolkits.axes_grid1 import make_axes_locatable\n",
    "\n",
    "def nice_imshow(ax, data, vmin=None, vmax=None, cmap=None):\n",
    "    \"\"\"Wrapper around pl.imshow\"\"\"\n",
    "    if cmap is None:\n",
    "        cmap = cm.jet\n",
    "    if vmin is None:\n",
    "        vmin = data.min()\n",
    "    if vmax is None:\n",
    "        vmax = data.max()\n",
    "    divider = make_axes_locatable(ax)\n",
    "    cax = divider.append_axes(\"right\", size=\"5%\", pad=0.05)\n",
    "    im = ax.imshow(data, vmin=vmin, vmax=vmax, interpolation='nearest', cmap=cmap)\n",
    "    plt.colorbar(im, cax=cax)"
   ]
  },
  {
   "cell_type": "code",
   "execution_count": null,
   "metadata": {
    "collapsed": true
   },
   "outputs": [],
   "source": [
    "import numpy.ma as ma\n",
    "def make_mosaic(imgs, border=1):\n",
    "    \"\"\"\n",
    "    Given a set of images with all the same shape, makes a\n",
    "    mosaic with nrows and ncols\n",
    "    \"\"\"\n",
    "    dims = len(imgs.shape)\n",
    "    if dims > 3:\n",
    "        # Squash last dimentions\n",
    "        print \"Array has \",dims,\" dimensions\"\n",
    "        last_dim_shape = 1\n",
    "        for d in range(2,dims):\n",
    "            last_dim_shape *= imgs.shape[d]\n",
    "        imgs = np.reshape(imgs,(imgs.shape[0],imgs.shape[1], last_dim_shape))\n",
    "        print \"New shape \", imgs.shape\n",
    "        \n",
    "    nimgs = imgs.shape[2]\n",
    "    imshape = imgs.shape[:2]\n",
    "    print nimgs, \"images, shaped:\",imshape \n",
    "    srt = math.sqrt(nimgs)\n",
    "    nrows = int(math.floor(srt))\n",
    "    ncols = nimgs // nrows + 1\n",
    "    print nrows, \"x\", ncols\n",
    "    \n",
    "    mosaic = ma.masked_all((nrows * imshape[0] + (nrows - 1) * border,\n",
    "                            ncols * imshape[1] + (ncols - 1) * border),\n",
    "                            dtype=np.float32)\n",
    "    \n",
    "    paddedh = imshape[0] + border\n",
    "    paddedw = imshape[1] + border\n",
    "    for i in xrange(nimgs):\n",
    "        row = int(np.floor(i / ncols))\n",
    "        col = i % ncols\n",
    "        \n",
    "        mosaic[row * paddedh:row * paddedh + imshape[0],\n",
    "               col * paddedw:col * paddedw + imshape[1]] = imgs[:,:,i]\n",
    "    return mosaic"
   ]
  },
  {
   "cell_type": "code",
   "execution_count": null,
   "metadata": {
    "collapsed": true
   },
   "outputs": [],
   "source": [
    "def show_weights(model, layer, layer_name):\n",
    "    #layer_f = K.function(model.inputs, [layer.output])\n",
    "\n",
    "    # Visualize weights\n",
    "    W = model.layers[layer].kernel.get_value(borrow=True)\n",
    "    W = np.squeeze(W)\n",
    "    print(\"W shape : \", W.shape)\n",
    "\n",
    "    plt.figure(figsize=(10, 10))\n",
    "    plt.title(layer_name+' weights')\n",
    "    nice_imshow(plt.gca(), make_mosaic(W), cmap=cm.binary)"
   ]
  },
  {
   "cell_type": "code",
   "execution_count": null,
   "metadata": {
    "scrolled": false
   },
   "outputs": [],
   "source": [
    "show_weights(model, 0, \"Layer 0\")"
   ]
  },
  {
   "cell_type": "code",
   "execution_count": null,
   "metadata": {
    "scrolled": false
   },
   "outputs": [],
   "source": [
    "show_weights(model, 1, \"Layer 1\")"
   ]
  },
  {
   "cell_type": "code",
   "execution_count": null,
   "metadata": {
    "collapsed": true
   },
   "outputs": [],
   "source": []
  }
 ],
 "metadata": {
  "kernelspec": {
   "display_name": "Python 2",
   "language": "python",
   "name": "python2"
  },
  "language_info": {
   "codemirror_mode": {
    "name": "ipython",
    "version": 2
   },
   "file_extension": ".py",
   "mimetype": "text/x-python",
   "name": "python",
   "nbconvert_exporter": "python",
   "pygments_lexer": "ipython2",
   "version": "2.7.12"
  }
 },
 "nbformat": 4,
 "nbformat_minor": 1
}
